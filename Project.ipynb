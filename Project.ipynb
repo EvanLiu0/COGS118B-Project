{
 "cells": [
  {
   "cell_type": "code",
   "execution_count": null,
   "id": "dd1d70cb",
   "metadata": {},
   "outputs": [],
   "source": [
    "import pandas as pd\n",
    "import numpy as np\n",
    "import matplotlib.pyplot as plt\n",
    "import math\n",
    "\n",
    "import seaborn as sns\n",
    "from sklearn.model_selection import train_test_split\n",
    "from sklearn.cluster import KMeans\n",
    "from sklearn.experimental import enable_iterative_imputer\n",
    "from sklearn.impute import IterativeImputer\n",
    "from sklearn.decomposition import PCA\n",
    "from sklearn.cluster import KMeans\n",
    "from sklearn.model_selection import train_test_split\n",
    "from sklearn.linear_model import LogisticRegression\n",
    "\n",
    "import warnings\n",
    "warnings.filterwarnings('ignore')"
   ]
  },
  {
   "cell_type": "code",
   "execution_count": null,
   "id": "0c507e77",
   "metadata": {},
   "outputs": [],
   "source": [
    "df = pd.read_csv(\"refactored_foods.csv\")\n",
    "df = df.iloc[:841,:]\n",
    "df"
   ]
  },
  {
   "cell_type": "code",
   "execution_count": null,
   "id": "7c6f7ac4",
   "metadata": {},
   "outputs": [],
   "source": [
    "df = df.drop('image nr', axis=1)\n",
    "df = df[df['Food vs nonfood'] == \"Food\"]\n",
    "df = df.drop('Food vs nonfood', axis=1)\n",
    "df = df.drop('State of food', axis=1)\n",
    "df = df[df['Food classification'] != 'Unappealing']\n",
    "df = df[df['Food classification'] !=  'African']\n",
    "#df = df.dropna(subset=['S'],how='all')\n",
    "df.reset_index(drop=True,inplace=True)\n",
    "#df = df.iloc[:,0:27]\n",
    "df['Food classification'].value_counts()"
   ]
  },
  {
   "cell_type": "code",
   "execution_count": null,
   "id": "c55eefac",
   "metadata": {},
   "outputs": [],
   "source": [
    "def standardize_classification(item):\n",
    "    if (not isinstance(item, str)) and (math.isnan(float(item))):\n",
    "        return item\n",
    "    elif item == \"Universal\":\n",
    "        return 0\n",
    "    elif item == \"Western\":\n",
    "        return 1\n",
    "    elif item == \"Asian\":\n",
    "        return 2\n",
    "\n",
    "def standardize_natural(item):\n",
    "    if (not isinstance(item, str)) and (math.isnan(float(item))):\n",
    "        return item\n",
    "    elif item == \"Natural\":\n",
    "        return 1\n",
    "    else:\n",
    "        return 0\n",
    "    \n",
    "def standardize_flavor(item):\n",
    "    if (not isinstance(item, float)) and (not isinstance(item, str)) and (math.isnan(float(item))):\n",
    "        return item\n",
    "    elif item == \"Savory\":\n",
    "        return 1\n",
    "    else:\n",
    "        return 0\n",
    "    \n",
    "def standardize_complexity(item):\n",
    "    if (not isinstance(item, str)) and (math.isnan(float(item))):\n",
    "        return item\n",
    "    elif (item == \"Complex\") or (item == \"complex\"):\n",
    "        return 10\n",
    "    elif (int(item) >= 10):\n",
    "        return 10\n",
    "    else:\n",
    "        return item"
   ]
  },
  {
   "cell_type": "code",
   "execution_count": null,
   "id": "c13b5908",
   "metadata": {},
   "outputs": [],
   "source": [
    "df['Food classification'] = df['Food classification'].apply(lambda x: standardize_classification(x))\n",
    "df['Natural vs transformed'] = df['Natural vs transformed'].apply(lambda x: standardize_natural(x))\n",
    "df['Sweet vs savory'] = df['Sweet vs savory'].apply(lambda x: standardize_flavor(x))\n",
    "df['Complexity (amount, number of items)'] = df['Complexity (amount, number of items)'].apply(lambda x: standardize_complexity(x))\n",
    "df"
   ]
  },
  {
   "cell_type": "code",
   "execution_count": null,
   "id": "739905bb",
   "metadata": {},
   "outputs": [],
   "source": [
    "universalIdx = df.index[df['Food classification'] == 0].tolist()\n",
    "westernIdx = df.index[df['Food classification'] == 1].tolist()\n",
    "easternIdx = df.index[df['Food classification'] == 2].tolist()"
   ]
  },
  {
   "cell_type": "code",
   "execution_count": null,
   "id": "453ef099",
   "metadata": {},
   "outputs": [],
   "source": [
    "temp = df.dropna()\n",
    "temp = temp.drop('Description', axis=1)"
   ]
  },
  {
   "cell_type": "code",
   "execution_count": null,
   "id": "c834b9c3",
   "metadata": {
    "scrolled": true
   },
   "outputs": [],
   "source": [
    "model = LogisticRegression()\n",
    "\n",
    "for i in range(0,5):\n",
    "\n",
    "    X = temp.drop(columns=['Food classification'])\n",
    "    Y = temp['Food classification']\n",
    "    x_train, x_test, y_train, y_test = train_test_split(X, Y, test_size=0.3)\n",
    "\n",
    "    model.fit(x_train, y_train)\n",
    "    print(\"Accuracy of LR Model: \", model.score(x_test, y_test))"
   ]
  },
  {
   "cell_type": "code",
   "execution_count": null,
   "id": "7bb058a8",
   "metadata": {
    "scrolled": true
   },
   "outputs": [],
   "source": [
    "temp = df\n",
    "temp = df[df['Average_Health_JP'].notna() & df['St._dev_Health_JP'].notna()]\n",
    "temp\n",
    "\n",
    "imp = IterativeImputer(max_iter=5, n_nearest_features=10, sample_posterior=True, random_state=0)\n",
    "imp.fit(temp.iloc[:,2:])\n",
    "newDf = imp.transform(df.iloc[:,2:])\n"
   ]
  },
  {
   "cell_type": "code",
   "execution_count": null,
   "id": "e6b73ce3",
   "metadata": {},
   "outputs": [],
   "source": [
    "df2 = pd.DataFrame(newDf)\n",
    "df2.head()"
   ]
  },
  {
   "cell_type": "code",
   "execution_count": null,
   "id": "30410b0c",
   "metadata": {},
   "outputs": [],
   "source": [
    "classif = df[\"Food classification\"]\n",
    "df2.insert(0, 'Food classification', classif)\n",
    "\n",
    "df2.iloc[:,2] = df2.loc[:,2].apply(lambda x: round(abs(x)))\n",
    "df2"
   ]
  },
  {
   "cell_type": "code",
   "execution_count": null,
   "id": "98448a46",
   "metadata": {
    "scrolled": true
   },
   "outputs": [],
   "source": [
    "for i in range(0,5):\n",
    "\n",
    "    X = df2.drop(columns=['Food classification'])\n",
    "    Y = df2['Food classification']\n",
    "    x_train, x_test, y_train, y_test = train_test_split(X, Y, test_size=0.3)\n",
    "\n",
    "    model.fit(x_train, y_train)\n",
    "    \n",
    "    print(\"Accuracy of LR Model: \", model.score(x_test, y_test))"
   ]
  },
  {
   "cell_type": "code",
   "execution_count": null,
   "id": "24774cd7",
   "metadata": {
    "scrolled": true
   },
   "outputs": [],
   "source": [
    "y_pred = model.predict(x_test)\n",
    "\n",
    "probs_y = model.predict_proba(x_test)\n",
    "probs_y = np.round(probs_y, 2)\n",
    "\n",
    "pred_perc = pd.DataFrame(probs_y)\n",
    "pred_perc.columns = ['Universal%', 'Western%', 'Asian%']\n",
    "\n",
    "display(pred_perc)\n",
    "display(pd.DataFrame(y_test))"
   ]
  },
  {
   "cell_type": "code",
   "execution_count": null,
   "id": "f252fab2",
   "metadata": {},
   "outputs": [],
   "source": [
    "df"
   ]
  },
  {
   "cell_type": "code",
   "execution_count": null,
   "id": "33d01ed2",
   "metadata": {},
   "outputs": [],
   "source": [
    "reduced_data = PCA(n_components=2).fit_transform(df2)\n",
    "pcaDf = pd.DataFrame(reduced_data)\n",
    "pcaDf"
   ]
  },
  {
   "cell_type": "code",
   "execution_count": null,
   "id": "f9addfd0",
   "metadata": {},
   "outputs": [],
   "source": [
    "universalCords = pcaDf.iloc[universalIdx]\n",
    "westernCords = pcaDf.iloc[westernIdx]\n",
    "easternCords = pcaDf.iloc[easternIdx]"
   ]
  },
  {
   "cell_type": "code",
   "execution_count": null,
   "id": "27d2aecb",
   "metadata": {
    "scrolled": true
   },
   "outputs": [],
   "source": [
    "# Code Reference: https://scikit-learn.org/stable/auto_examples/cluster/plot_kmeans_digits.html\n",
    "\n",
    "kmeans = KMeans(init=\"k-means++\", n_clusters=3, n_init=4, max_iter=300)\n",
    "y_kmeans = kmeans.fit_predict(reduced_data)\n",
    "\n",
    "plt.scatter(reduced_data[y_kmeans==0, 0], reduced_data[y_kmeans==0, 1], s=5, c='red', label ='Cluster 1')\n",
    "plt.scatter(reduced_data[y_kmeans==1, 0], reduced_data[y_kmeans==1, 1], s=5, c='blue', label ='Cluster 1')\n",
    "plt.scatter(reduced_data[y_kmeans==2, 0], reduced_data[y_kmeans==2, 1], s=5, c='green', label ='Cluster 1')\n",
    "\n",
    "#plt.plot(reduced_data[:, 0], reduced_data[:, 1], \"k.\", markersize=2)\n",
    "\n",
    "centroids = kmeans.cluster_centers_\n",
    "\n",
    "plt.scatter(\n",
    "   centroids[:, 0],\n",
    "   centroids[:, 1],\n",
    "   marker=\"x\",\n",
    "   s=169,\n",
    "   linewidths=3,\n",
    "   color=\"black\",\n",
    "   zorder=10,\n",
    ")\n",
    "\n",
    "plt.xticks(visible = True)\n",
    "plt.xticks(visible = True)\n",
    "plt.show()"
   ]
  },
  {
   "cell_type": "code",
   "execution_count": null,
   "id": "f5e03fd6",
   "metadata": {},
   "outputs": [],
   "source": [
    "plt.scatter(universalCords.iloc[:,0] , universalCords.iloc[:,1] , color = 'red', s=5)\n",
    "plt.scatter(westernCords.iloc[:,0] , westernCords.iloc[:,1] , color = 'green', s=5)\n",
    "plt.scatter(easternCords.iloc[:,0] , easternCords.iloc[:,1] , color = 'blue', s=5)\n",
    "plt.scatter(\n",
    "   centroids[:, 0],\n",
    "   centroids[:, 1],\n",
    "   marker=\"x\",\n",
    "   s=169,\n",
    "   linewidths=3,\n",
    "   color=\"black\",\n",
    "   zorder=10,\n",
    ")\n",
    "plt.show()"
   ]
  }
 ],
 "metadata": {
  "kernelspec": {
   "display_name": "Python 3 (ipykernel)",
   "language": "python",
   "name": "python3"
  },
  "language_info": {
   "codemirror_mode": {
    "name": "ipython",
    "version": 3
   },
   "file_extension": ".py",
   "mimetype": "text/x-python",
   "name": "python",
   "nbconvert_exporter": "python",
   "pygments_lexer": "ipython3",
   "version": "3.9.5"
  }
 },
 "nbformat": 4,
 "nbformat_minor": 5
}
